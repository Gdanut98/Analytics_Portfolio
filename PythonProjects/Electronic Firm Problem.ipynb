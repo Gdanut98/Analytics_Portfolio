{
 "cells": [
  {
   "cell_type": "markdown",
   "metadata": {},
   "source": [
    "# Electronic Firm Problem"
   ]
  },
  {
   "cell_type": "code",
   "execution_count": 1,
   "metadata": {},
   "outputs": [],
   "source": [
    "import random as rd\n",
    "import statistics as st\n",
    "import matplotlib.pyplot as plt\n",
    "import numpy as np\n",
    "from sympy import *\n",
    "from sympy.stats import *\n",
    "init_printing()"
   ]
  },
  {
   "cell_type": "code",
   "execution_count": 2,
   "metadata": {},
   "outputs": [],
   "source": [
    "# Imput Parameters\n",
    "Min_SalePrice = 18.95 # $\n",
    "Max_SalePrice = 26.95 # $\n",
    "Mode_SalePrice = 24.95 # $\n"
   ]
  },
  {
   "cell_type": "code",
   "execution_count": 4,
   "metadata": {},
   "outputs": [],
   "source": [
    "\n",
    "trials = 10000\n",
    "sample= list()\n",
    "for i in range(trials):\n",
    "    Unit_Cost = rd.randint(12,15)\n",
    "    Fixed_Cost= rd.normalvariate(30000,5000)\n",
    "    sale_price = rd.triangular(Min_SalePrice,Max_SalePrice,Mode_SalePrice)\n",
    "    qty_sold = 10000 - (250 * sale_price + rd.normalvariate(0,10))\n",
    "    demand = qty_sold\n",
    "    sales_revenue = qty_sold * sale_price\n",
    "    profit = qty_sold * (sale_price - Unit_Cost)- Fixed_Cost\n",
    "    sample.append(profit)\n"
   ]
  },
  {
   "cell_type": "code",
   "execution_count": 5,
   "metadata": {},
   "outputs": [
    {
     "data": {
      "text/plain": [
       "(array([2.000e+00, 2.400e+01, 1.260e+02, 6.000e+02, 1.722e+03, 2.721e+03,\n",
       "        2.727e+03, 1.630e+03, 4.100e+02, 3.800e+01]),\n",
       " array([-23169.98642401, -17424.94997099, -11679.91351797,  -5934.87706495,\n",
       "          -189.84061193,   5555.19584109,  11300.23229411,  17045.26874713,\n",
       "         22790.30520015,  28535.34165317,  34280.37810619]),\n",
       " <BarContainer object of 10 artists>)"
      ]
     },
     "execution_count": 5,
     "metadata": {},
     "output_type": "execute_result"
    },
    {
     "data": {
      "image/png": "[encoded data removed]",
      "text/plain": [
       "<Figure size 432x288 with 1 Axes>"
      ]
     },
     "metadata": {
      "needs_background": "light"
     },
     "output_type": "display_data"
    }
   ],
   "source": [
    "plt.hist(sample,edgecolor='k')"
   ]
  },
  {
   "cell_type": "code",
   "execution_count": 6,
   "metadata": {},
   "outputs": [
    {
     "name": "stdout",
     "output_type": "stream",
     "text": [
      "Max profit = 34280.37810619313\n",
      "Mode profit= -4142.8732072574785\n",
      "Median profit = 10908.160028068749\n",
      "Mean profit = 10699.82421928463\n",
      "Min profit = -23169.98642400793\n"
     ]
    }
   ],
   "source": [
    "# Analyze Summary Statistics\n",
    "\n",
    "print('Max profit =', max(sample))\n",
    "print('Mode profit=', st.mode(sample))\n",
    "print('Median profit =', st.median(sample))\n",
    "print('Mean profit =', st.mean(sample))\n",
    "print('Min profit =', min(sample))"
   ]
  },
  {
   "cell_type": "code",
   "execution_count": 7,
   "metadata": {},
   "outputs": [
    {
     "name": "stdout",
     "output_type": "stream",
     "text": [
      "Probility for net loss is 0.0784\n"
     ]
    }
   ],
   "source": [
    "# Probability of occuring a loss\n",
    "proportion = sum(1 for x in sample if x < 0)/len(sample)\n",
    "print('Probility for net loss is', proportion)"
   ]
  },
  {
   "cell_type": "code",
   "execution_count": null,
   "metadata": {},
   "outputs": [],
   "source": []
  }
 ],
 "metadata": {
  "kernelspec": {
   "display_name": "Python 3 (ipykernel)",
   "language": "python",
   "name": "python3"
  },
  "language_info": {
   "codemirror_mode": {
    "name": "ipython",
    "version": 3
   },
   "file_extension": ".py",
   "mimetype": "text/x-python",
   "name": "python",
   "nbconvert_exporter": "python",
   "pygments_lexer": "ipython3",
   "version": "3.9.7"
  }
 },
 "nbformat": 4,
 "nbformat_minor": 4
}
