{
 "cells": [
  {
   "cell_type": "markdown",
   "metadata": {},
   "source": [
    "## Homework 11"
   ]
  },
  {
   "cell_type": "code",
   "execution_count": 1,
   "metadata": {},
   "outputs": [],
   "source": [
    "# import Glop package\n",
    "from ortools.linear_solver import pywraplp as glp\n",
    "import lptools as lpt\n",
    "import matplotlib.pyplot as plt"
   ]
  },
  {
   "cell_type": "code",
   "execution_count": 2,
   "metadata": {},
   "outputs": [],
   "source": [
    "#Create LP model object\n",
    "mymodel = glp.Solver('Spencer Enterprises', glp.Solver.CBC_MIXED_INTEGER_PROGRAMMING)"
   ]
  },
  {
   "cell_type": "code",
   "execution_count": 3,
   "metadata": {},
   "outputs": [],
   "source": [
    "inf = mymodel.infinity()\n",
    "\n",
    "            # name: (type 'c'=continuous or 'i'=integer, lower bound, upper bound, objective coefficient)\n",
    "variables = {'LWE ': ('i' ,0 ,1 ,4000 ),         # Limited Warehouse Expansion\n",
    "             'EWE ': ('i' , 0, 1, 6000),           # Extensive Warehouse Expansion\n",
    "             'TMNP': ('i' , 0,1 , 10500),           # Test Market New Product\n",
    "             'AC': ('i' , 0, 1, 4000),             # Advertising Campaign\n",
    "             'BR': ('i' , 0, 1, 8000),             # Basic Research\n",
    "             'PNE': ('i' , 0, 1, 3000)}            # Purchase New Equipment\n",
    "             \n",
    "\n",
    "            # name: (lower bound, upper bound, coefficient list)\n",
    "constraints = {'Y1 ': ( -inf,10500 , [3000 ,2500 ,6000,2000, 5000, 1000 ]),\n",
    "               'Y2 ': (-inf ,7000 , [ 1000,3500 ,4000,1500, 1000, 500 ]),\n",
    "               'Y3 ': (-inf ,8750 , [4000 ,3500 ,5000,1800, 4000, 900 ])}\n",
    "               \n",
    "mymodel.Objective().SetMaximization()"
   ]
  },
  {
   "cell_type": "code",
   "execution_count": 4,
   "metadata": {},
   "outputs": [],
   "source": [
    "for v in variables:\n",
    "    (t,lb,ub,c) = variables[v]\n",
    "    if t == 'c':\n",
    "        var = mymodel.NumVar(lb,ub,v)\n",
    "    elif t == 'i':\n",
    "        var = mymodel.IntVar(lb,ub,v)\n",
    "    else:\n",
    "        print('Invalid variable type =', t)\n",
    "    mymodel.Objective().SetCoefficient(var,c)"
   ]
  },
  {
   "cell_type": "code",
   "execution_count": 5,
   "metadata": {},
   "outputs": [],
   "source": [
    "for c in constraints:\n",
    "    (lb,ub,coeff_lst) = constraints[c]\n",
    "    constr = mymodel.Constraint(lb,ub,c)\n",
    "    for (v,coeff) in zip(mymodel.variables(),coeff_lst):\n",
    "        constr.SetCoefficient(v,coeff)"
   ]
  },
  {
   "cell_type": "code",
   "execution_count": 6,
   "metadata": {},
   "outputs": [
    {
     "name": "stdout",
     "output_type": "stream",
     "text": [
      "Variables:\n",
      "LWE , EWE , TMNP, AC, BR, PNE \n",
      "\n",
      "maximize: 4000.0*LWE  + 6000.0*EWE  + 10500.0*TMNP + 4000.0*AC + 8000.0*BR + 3000.0*PNE \n",
      "\n",
      "Subject To:\n",
      "Y1 : 3000.0*LWE  + 2500.0*EWE  + 6000.0*TMNP + 2000.0*AC + 5000.0*BR + 1000.0*PNE <= 10500.0\n",
      "Y2 : 1000.0*LWE  + 3500.0*EWE  + 4000.0*TMNP + 1500.0*AC + 1000.0*BR + 500.0*PNE <= 7000.0\n",
      "Y3 : 4000.0*LWE  + 3500.0*EWE  + 5000.0*TMNP + 1800.0*AC + 4000.0*BR + 900.0*PNE <= 8750.0\n",
      "\n",
      "Bounds:\n",
      "0.0 <= LWE  <= 1.0\n",
      "0.0 <= EWE  <= 1.0\n",
      "0.0 <= TMNP <= 1.0\n",
      "0.0 <= AC <= 1.0\n",
      "0.0 <= BR <= 1.0\n",
      "0.0 <= PNE <= 1.0\n"
     ]
    }
   ],
   "source": [
    "lpt.print_model(mymodel)"
   ]
  },
  {
   "cell_type": "code",
   "execution_count": 7,
   "metadata": {},
   "outputs": [
    {
     "name": "stdout",
     "output_type": "stream",
     "text": [
      "Solution Status = 0\n",
      "Optimal Value = 17500.00\n",
      "LWE  = 0.00\n",
      "EWE  = 0.00\n",
      "TMNP = 1.00\n",
      "AC = 1.00\n",
      "BR = 0.00\n",
      "PNE = 1.00\n"
     ]
    }
   ],
   "source": [
    "#solve model and display results\n",
    "status = mymodel.Solve()\n",
    "print('Solution Status =',status)\n",
    "print('Optimal Value = %.2f' % mymodel.Objective().Value())\n",
    "for v in mymodel.variables():\n",
    "    print('%s = %.2f' % (v.name(),v.solution_value()))"
   ]
  },
  {
   "cell_type": "code",
   "execution_count": 8,
   "metadata": {},
   "outputs": [
    {
     "name": "stdout",
     "output_type": "stream",
     "text": [
      "Variable    LB   Value    UB\n",
      "    LWE     0.0    0.0    1.0\n",
      "    EWE     0.0    0.0    1.0\n",
      "    TMNP    0.0    1.0    1.0\n",
      "      AC    0.0    1.0    1.0\n",
      "      BR    0.0    0.0    1.0\n",
      "     PNE    0.0    1.0    1.0\n"
     ]
    }
   ],
   "source": [
    "# display variable information\n",
    "print('Variable    LB   Value    UB')\n",
    "for v in mymodel.variables():\n",
    "    print('%8s  %5.1f  %5.1f  %5.1f' % (v.name(),v.lb(),v.solution_value(),v.ub()))\n"
   ]
  },
  {
   "cell_type": "code",
   "execution_count": 9,
   "metadata": {},
   "outputs": [
    {
     "name": "stdout",
     "output_type": "stream",
     "text": [
      "Constraint    LB    Value  UB\n",
      "       Y1    -inf  9000.0  10500.0\n",
      "       Y2    -inf  6000.0  7000.0\n",
      "       Y3    -inf  7700.0  8750.0\n"
     ]
    }
   ],
   "source": [
    "#display constraint information\n",
    "print('Constraint    LB    Value  UB')\n",
    "for (c,lhs) in zip(mymodel.constraints(),mymodel.ComputeConstraintActivities()):\n",
    "    print('%10s  %5.1f  %5.1f  %5.1f' % (c.name(),c.lb(),lhs,c.ub()))"
   ]
  },
  {
   "cell_type": "code",
   "execution_count": 10,
   "metadata": {},
   "outputs": [],
   "source": [
    "# The optimal Soultion is 17,000 and Spencer Enterpirses chooses Extensive Warehouse Expansion, Basic Research, and Purchase New Equipment instead."
   ]
  },
  {
   "cell_type": "markdown",
   "metadata": {},
   "source": [
    "   \n",
    "  ## Problem 2"
   ]
  },
  {
   "cell_type": "code",
   "execution_count": 11,
   "metadata": {},
   "outputs": [],
   "source": [
    "# import Glop package\n",
    "from ortools.linear_solver import pywraplp as glp\n",
    "import lptools as lpt"
   ]
  },
  {
   "cell_type": "code",
   "execution_count": 12,
   "metadata": {},
   "outputs": [],
   "source": [
    "# Create MILP model object\n",
    "mymodel = glp.Solver('Scott Office Products', glp.Solver.CBC_MIXED_INTEGER_PROGRAMMING)"
   ]
  },
  {
   "cell_type": "code",
   "execution_count": 13,
   "metadata": {},
   "outputs": [],
   "source": [
    "inf = mymodel.infinity()\n",
    "\n",
    "         # name: supply capacity (thousand tons), fixed cost (thousand $), unit shipping cost ($) to each RDC\n",
    "source = {'Cle': (30,320 , [ 2, 6, 20]),    # Clebeland\n",
    "          'Nsh': (15,175 , [ 3, 4, 9]),    # Nashville\n",
    "          'Stl': (30,300 , [ 5, 9, 7]),    # St. Louis\n",
    "          'Mil':  (25,0 , [5, 10, 8])}   # Milwaukee\n",
    "          \n",
    "\n",
    "        # name: demand quantity required (thousand tons)\n",
    "demand = {'Scr':20 , 'Atl': 10, 'Ren':25 }    # Scranton, Atlanta, Reno\n",
    "\n",
    "mymodel.Objective().SetMinimization()    # minimize total plant and transportation cost"
   ]
  },
  {
   "cell_type": "code",
   "execution_count": 14,
   "metadata": {},
   "outputs": [],
   "source": [
    "# create binary Plant selection variables and a dictionary to access them\n",
    "select = dict()\n",
    "for s in source:\n",
    "    select[s] = mymodel.IntVar(0,1,s) \n",
    "    (b,f, coeff_lst) = source[s]\n",
    "    mymodel.Objective().SetCoefficient(select[s], f )"
   ]
  },
  {
   "cell_type": "code",
   "execution_count": 15,
   "metadata": {},
   "outputs": [],
   "source": [
    "# create shipment variables from Plants to RDCs and a dictionary to access them\n",
    "ship = dict()\n",
    "for s in source:\n",
    "    ship[s] = dict()\n",
    "    (b, f, coeff_lst) = source[s]\n",
    "    for (d,c) in zip(demand,coeff_lst):\n",
    "        ship[s][d] = mymodel.NumVar(0 ,inf, s + '.' + d)\n",
    "        mymodel.Objective().SetCoefficient(ship[s][d] ,c )"
   ]
  },
  {
   "cell_type": "code",
   "execution_count": 16,
   "metadata": {},
   "outputs": [],
   "source": [
    "# create source/supply constraints\n",
    "for s in source:\n",
    "    (b, f, coeff_lst) = source[s]\n",
    "    constr = mymodel.Constraint(-inf ,0 ,s )\n",
    "    constr.SetCoefficient(select[s] ,-b )\n",
    "    for d in demand:\n",
    "        constr.SetCoefficient(ship[s][d] , 1)"
   ]
  },
  {
   "cell_type": "code",
   "execution_count": 17,
   "metadata": {},
   "outputs": [],
   "source": [
    "# create demand constraints\n",
    "for d in demand:\n",
    "    lb = ub = demand[d]\n",
    "    constr = mymodel.Constraint(lb ,ub ,d )\n",
    "    for s in source:\n",
    "        constr.SetCoefficient( ship[s][d],1 )"
   ]
  },
  {
   "cell_type": "code",
   "execution_count": 18,
   "metadata": {},
   "outputs": [
    {
     "name": "stdout",
     "output_type": "stream",
     "text": [
      "Variables:\n",
      "Cle, Nsh, Stl, Mil, Cle.Scr, Cle.Atl, Cle.Ren, Nsh.Scr, Nsh.Atl, Nsh.Ren, Stl.Scr, Stl.Atl, Stl.Ren, Mil.Scr, Mil.Atl, Mil.Ren \n",
      "\n",
      "minimize: 320.0*Cle + 175.0*Nsh + 300.0*Stl + 2.0*Cle.Scr + 6.0*Cle.Atl + 20.0*Cle.Ren + 3.0*Nsh.Scr + 4.0*Nsh.Atl + 9.0*Nsh.Ren + 5.0*Stl.Scr + 9.0*Stl.Atl + 7.0*Stl.Ren + 5.0*Mil.Scr + 10.0*Mil.Atl + 8.0*Mil.Ren \n",
      "\n",
      "Subject To:\n",
      "Cle: - 30.0*Cle + 1.0*Cle.Scr + 1.0*Cle.Atl + 1.0*Cle.Ren <= 0.0\n",
      "Nsh: - 15.0*Nsh + 1.0*Nsh.Scr + 1.0*Nsh.Atl + 1.0*Nsh.Ren <= 0.0\n",
      "Stl: - 30.0*Stl + 1.0*Stl.Scr + 1.0*Stl.Atl + 1.0*Stl.Ren <= 0.0\n",
      "Mil: - 25.0*Mil + 1.0*Mil.Scr + 1.0*Mil.Atl + 1.0*Mil.Ren <= 0.0\n",
      "Scr: 1.0*Cle.Scr + 1.0*Nsh.Scr + 1.0*Stl.Scr + 1.0*Mil.Scr = 20.0\n",
      "Atl: 1.0*Cle.Atl + 1.0*Nsh.Atl + 1.0*Stl.Atl + 1.0*Mil.Atl = 10.0\n",
      "Ren: 1.0*Cle.Ren + 1.0*Nsh.Ren + 1.0*Stl.Ren + 1.0*Mil.Ren = 25.0\n",
      "\n",
      "Bounds:\n",
      "0.0 <= Cle <= 1.0\n",
      "0.0 <= Nsh <= 1.0\n",
      "0.0 <= Stl <= 1.0\n",
      "0.0 <= Mil <= 1.0\n",
      "Cle.Scr >= 0.0\n",
      "Cle.Atl >= 0.0\n",
      "Cle.Ren >= 0.0\n",
      "Nsh.Scr >= 0.0\n",
      "Nsh.Atl >= 0.0\n",
      "Nsh.Ren >= 0.0\n",
      "Stl.Scr >= 0.0\n",
      "Stl.Atl >= 0.0\n",
      "Stl.Ren >= 0.0\n",
      "Mil.Scr >= 0.0\n",
      "Mil.Atl >= 0.0\n",
      "Mil.Ren >= 0.0\n"
     ]
    }
   ],
   "source": [
    "lpt.print_model(mymodel)"
   ]
  },
  {
   "cell_type": "code",
   "execution_count": 19,
   "metadata": {},
   "outputs": [
    {
     "name": "stdout",
     "output_type": "stream",
     "text": [
      "Solution Status = 0\n",
      "Optimal Value = 620.00 thousand\n",
      "    Cle =  1.00\n",
      "    Mil =  1.00\n",
      "Cle.Scr = 20.00\n",
      "Cle.Atl = 10.00\n",
      "Mil.Ren = 25.00\n"
     ]
    }
   ],
   "source": [
    "#solve model and display results\n",
    "status = mymodel.Solve()\n",
    "print('Solution Status =',status)\n",
    "print('Optimal Value = %.2f thousand' % mymodel.Objective().Value())\n",
    "for v in mymodel.variables():\n",
    "    if v.solution_value() != 0:\n",
    "        print('%7s = %5.2f' % (v.name(),v.solution_value()))"
   ]
  },
  {
   "cell_type": "code",
   "execution_count": 20,
   "metadata": {},
   "outputs": [
    {
     "name": "stdout",
     "output_type": "stream",
     "text": [
      "Variable    LB   Value    UB\n",
      "     Cle    0.0    1.0    1.0\n",
      "     Nsh    0.0    0.0    1.0\n",
      "     Stl    0.0    0.0    1.0\n",
      "     Mil    0.0    1.0    1.0\n",
      " Cle.Scr    0.0   20.0    inf\n",
      " Cle.Atl    0.0   10.0    inf\n",
      " Cle.Ren    0.0    0.0    inf\n",
      " Nsh.Scr    0.0    0.0    inf\n",
      " Nsh.Atl    0.0    0.0    inf\n",
      " Nsh.Ren    0.0    0.0    inf\n",
      " Stl.Scr    0.0    0.0    inf\n",
      " Stl.Atl    0.0    0.0    inf\n",
      " Stl.Ren    0.0    0.0    inf\n",
      " Mil.Scr    0.0    0.0    inf\n",
      " Mil.Atl    0.0    0.0    inf\n",
      " Mil.Ren    0.0   25.0    inf\n"
     ]
    }
   ],
   "source": [
    "# display all variable information\n",
    "print('Variable    LB   Value    UB')\n",
    "for v in mymodel.variables():\n",
    "    print('%8s  %5.1f  %5.1f  %5.1f' % (v.name(),v.lb(),v.solution_value(),v.ub()))"
   ]
  },
  {
   "cell_type": "code",
   "execution_count": 21,
   "metadata": {},
   "outputs": [
    {
     "name": "stdout",
     "output_type": "stream",
     "text": [
      "Constraint    LB    Value  UB\n",
      "       Cle   -inf    0.0    0.0\n",
      "       Nsh   -inf    0.0    0.0\n",
      "       Stl   -inf    0.0    0.0\n",
      "       Mil   -inf    0.0    0.0\n",
      "       Scr   20.0   20.0   20.0\n",
      "       Atl   10.0   10.0   10.0\n",
      "       Ren   25.0   25.0   25.0\n"
     ]
    }
   ],
   "source": [
    "#display constraint information\n",
    "print('Constraint    LB    Value  UB')\n",
    "for (c,lhs) in zip(mymodel.constraints(),mymodel.ComputeConstraintActivities()):\n",
    "    print('%10s  %5.1f  %5.1f  %5.1f' % (c.name(),c.lb(),lhs,c.ub()))"
   ]
  },
  {
   "cell_type": "code",
   "execution_count": 22,
   "metadata": {},
   "outputs": [
    {
     "data": {
      "text/plain": [
       "[<matplotlib.lines.Line2D at 0x11b1c2486a0>]"
      ]
     },
     "execution_count": 22,
     "metadata": {},
     "output_type": "execute_result"
    },
    {
     "data": {
      "image/png": "[encoded data removed]",
      "text/plain": [
       "<Figure size 432x288 with 1 Axes>"
      ]
     },
     "metadata": {
      "needs_background": "light"
     },
     "output_type": "display_data"
    }
   ],
   "source": [
    "# optimization parameter analysis: Milwuakee capacity (25 - 100)\n",
    "\n",
    "param_lst = list(range(25 ,101 ))\n",
    "optval_lst = list()\n",
    "for b in param_lst:\n",
    "    mymodel.constraints()[3].SetCoefficient(select['Mil'],-b )    # constraint index 3 is Milwuakee supply constraint\n",
    "    mymodel.Solve()\n",
    "    optval_lst.append(mymodel.Objective().Value())\n",
    "    \n",
    "mymodel.constraints()[3].SetCoefficient(select['Mil'] , -25)\n",
    "\n",
    "plt.grid()\n",
    "plt.plot(param_lst,optval_lst)"
   ]
  },
  {
   "cell_type": "code",
   "execution_count": 23,
   "metadata": {},
   "outputs": [],
   "source": [
    "# At every step, you get enough capacity at Milwaukee to change distrubution centers"
   ]
  },
  {
   "cell_type": "code",
   "execution_count": null,
   "metadata": {},
   "outputs": [],
   "source": []
  }
 ],
 "metadata": {
  "kernelspec": {
   "display_name": "Python 3 (ipykernel)",
   "language": "python",
   "name": "python3"
  },
  "language_info": {
   "codemirror_mode": {
    "name": "ipython",
    "version": 3
   },
   "file_extension": ".py",
   "mimetype": "text/x-python",
   "name": "python",
   "nbconvert_exporter": "python",
   "pygments_lexer": "ipython3",
   "version": "3.9.7"
  }
 },
 "nbformat": 4,
 "nbformat_minor": 4
}
