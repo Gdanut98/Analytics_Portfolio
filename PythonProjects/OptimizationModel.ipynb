{
 "cells": [
  {
   "cell_type": "markdown",
   "metadata": {},
   "source": [
    "## Better Products\n"
   ]
  },
  {
   "cell_type": "code",
   "execution_count": 1,
   "metadata": {},
   "outputs": [],
   "source": [
    "# import Glop package\n",
    "from ortools.linear_solver import pywraplp as glp\n",
    "import lptools as lpt\n",
    "import matplotlib.pyplot as plt"
   ]
  },
  {
   "cell_type": "code",
   "execution_count": 2,
   "metadata": {},
   "outputs": [],
   "source": [
    "#Create LP model object\n",
    "mymodel = glp.Solver('BetterProducts',glp.Solver.GLOP_LINEAR_PROGRAMMING)"
   ]
  },
  {
   "cell_type": "code",
   "execution_count": 3,
   "metadata": {},
   "outputs": [],
   "source": [
    "inf = mymodel.infinity()\n",
    "\n",
    "variables = {'Prodcut1': (0,inf,30),    # (lower bound, upper bound, objective coefficient)\n",
    "             'Product2': (0,inf,50),\n",
    "             'Product3': (0,inf,20)}\n",
    "\n",
    "constraints = {'Machine1': (0,100,[.5,2,.75]),    # (lower bound, upper bound, coefficient list)\n",
    "               'Machine2': (0,100,[1,1,.5]),\n",
    "               'MinProduct1': (-inf,0, [.5,-.50,-.50 ]),\n",
    "               'MaxProduct3': (0,inf, [-.20,-.20,.80 ]),\n",
    "               'LaborHours': (0,100, [1.5,1.5,1])}"
   ]
  },
  {
   "cell_type": "code",
   "execution_count": 4,
   "metadata": {},
   "outputs": [],
   "source": [
    "mymodel.Objective().SetMaximization()\n",
    "for v in variables:\n",
    "    #print(v)\n",
    "    #print(variables[v])\n",
    "    (lb,ub,c) = variables[v]\n",
    "    var = mymodel.NumVar(lb,ub,v)\n",
    "    mymodel.Objective().SetCoefficient(var,c)"
   ]
  },
  {
   "cell_type": "code",
   "execution_count": 5,
   "metadata": {},
   "outputs": [],
   "source": [
    "for c in constraints:\n",
    "    (lb,ub,coeff_lst) = constraints[c]\n",
    "    #print(list(zip(mymodel.variables(),coeff_lst)))\n",
    "    constr = mymodel.Constraint(lb,ub,c)\n",
    "    for (v,coeff) in zip(mymodel.variables(),coeff_lst):\n",
    "        constr.SetCoefficient(v,coeff)"
   ]
  },
  {
   "cell_type": "code",
   "execution_count": 6,
   "metadata": {},
   "outputs": [
    {
     "name": "stdout",
     "output_type": "stream",
     "text": [
      "Variables:\n",
      "Prodcut1, Product2, Product3 \n",
      "\n",
      "maximize: 30.0*Prodcut1 + 50.0*Product2 + 20.0*Product3 \n",
      "\n",
      "Subject To:\n",
      "Machine1: 0.5*Prodcut1 + 2.0*Product2 + 0.75*Product3 >= 0.0\n",
      "Machine1: 0.5*Prodcut1 + 2.0*Product2 + 0.75*Product3 <= 100.0\n",
      "Machine2: 1.0*Prodcut1 + 1.0*Product2 + 0.5*Product3 >= 0.0\n",
      "Machine2: 1.0*Prodcut1 + 1.0*Product2 + 0.5*Product3 <= 100.0\n",
      "MinProduct1: 0.5*Prodcut1 - 0.5*Product2 - 0.5*Product3 <= 0.0\n",
      "MaxProduct3: - 0.2*Prodcut1 - 0.2*Product2 + 0.8*Product3 >= 0.0\n",
      "LaborHours: 1.5*Prodcut1 + 1.5*Product2 + 1.0*Product3 >= 0.0\n",
      "LaborHours: 1.5*Prodcut1 + 1.5*Product2 + 1.0*Product3 <= 100.0\n",
      "\n",
      "Bounds:\n",
      "Prodcut1 >= 0.0\n",
      "Product2 >= 0.0\n",
      "Product3 >= 0.0\n"
     ]
    }
   ],
   "source": [
    "lpt.print_model(mymodel)"
   ]
  },
  {
   "cell_type": "code",
   "execution_count": 7,
   "metadata": {},
   "outputs": [
    {
     "name": "stdout",
     "output_type": "stream",
     "text": [
      "Solution Status = 0\n",
      "Optimal Value = 2809.52\n",
      "Prodcut1 = 16.67\n",
      "Product2 = 40.48\n",
      "Product3 = 14.29\n"
     ]
    }
   ],
   "source": [
    "#solve model and display results\n",
    "status = mymodel.Solve()\n",
    "print('Solution Status =',status)\n",
    "print('Optimal Value = %.2f' % mymodel.Objective().Value())\n",
    "for v in mymodel.variables():\n",
    "    print('%s = %.2f' % (v.name(),v.solution_value()))\n",
    "    "
   ]
  },
  {
   "cell_type": "code",
   "execution_count": 8,
   "metadata": {},
   "outputs": [
    {
     "name": "stdout",
     "output_type": "stream",
     "text": [
      "Variable    LB   Value    UB   Reduced Cost\n",
      "Prodcut1    0.0   16.7    inf   0.00\n",
      "Product2    0.0   40.5    inf  -0.00\n",
      "Product3    0.0   14.3    inf   0.00\n"
     ]
    }
   ],
   "source": [
    "# display variable information\n",
    "print('Variable    LB   Value    UB   Reduced Cost')\n",
    "for v in mymodel.variables():\n",
    "    print('%8s  %5.1f  %5.1f  %5.1f  %5.2f' % (v.name(),v.lb(),v.solution_value(),v.ub(),v.reduced_cost()))"
   ]
  },
  {
   "cell_type": "code",
   "execution_count": 9,
   "metadata": {},
   "outputs": [
    {
     "name": "stdout",
     "output_type": "stream",
     "text": [
      "Constraint    LB    Value  UB     Dual\n",
      "  Machine1    0.0  100.0  100.0  13.33\n",
      "  Machine2    0.0   64.3  100.0  -0.00\n",
      "MinProduct1   -inf  -19.0    0.0  -0.00\n",
      "MaxProduct3    0.0    0.0    inf  -5.95\n",
      "LaborHours    0.0  100.0  100.0  14.76\n"
     ]
    }
   ],
   "source": [
    "#display constraint information\n",
    "print('Constraint    LB    Value  UB     Dual')\n",
    "for (c,lhs) in zip(mymodel.constraints(),mymodel.ComputeConstraintActivities()):\n",
    "    print('%10s  %5.1f  %5.1f  %5.1f  %5.2f' % (c.name(),c.lb(),lhs,c.ub(),c.dual_value()))"
   ]
  },
  {
   "cell_type": "code",
   "execution_count": 10,
   "metadata": {},
   "outputs": [
    {
     "name": "stdout",
     "output_type": "stream",
     "text": [
      "100 2809.523809523809\n",
      "101 2824.2857142857147\n",
      "102 2839.0476190476193\n",
      "103 2853.809523809524\n",
      "104 2868.5714285714284\n",
      "105 2883.3333333333335\n",
      "106 2898.095238095238\n",
      "107 2912.857142857143\n",
      "108 2927.6190476190477\n",
      "109 2942.3809523809527\n",
      "110 2957.1428571428573\n",
      "111 2971.9047619047615\n",
      "112 2986.666666666667\n",
      "113 3001.4285714285716\n",
      "114 3016.190476190476\n",
      "115 3030.9523809523816\n",
      "116 3045.7142857142862\n",
      "117 3060.47619047619\n",
      "118 3075.2380952380954\n",
      "119 3090.0\n",
      "120 3104.7619047619046\n",
      "121 3119.5238095238096\n",
      "122 3134.2857142857147\n",
      "123 3149.047619047619\n",
      "124 3163.809523809524\n",
      "125 3178.5714285714284\n",
      "126 3193.333333333334\n",
      "127 3208.0952380952385\n",
      "128 3222.857142857143\n",
      "129 3237.6190476190477\n",
      "130 3252.3809523809527\n",
      "131 3267.1428571428573\n",
      "132 3281.904761904762\n",
      "133 3296.666666666667\n",
      "134 3311.4285714285716\n",
      "135 3326.1904761904766\n",
      "136 3340.952380952381\n",
      "137 3355.7142857142862\n",
      "138 3370.476190476191\n",
      "139 3385.2380952380954\n"
     ]
    },
    {
     "data": {
      "text/plain": [
       "[<matplotlib.lines.Line2D at 0x222e937eaf0>]"
      ]
     },
     "execution_count": 10,
     "metadata": {},
     "output_type": "execute_result"
    },
    {
     "data": {
      "image/png": "[encoded data removed]",
      "text/plain": [
       "<Figure size 432x288 with 1 Axes>"
      ]
     },
     "metadata": {
      "needs_background": "light"
     },
     "output_type": "display_data"
    }
   ],
   "source": [
    "# Opt Param analysis for labor capacity\n",
    "param_lst = list(range(100,140))\n",
    "optval_lst=list()\n",
    "constr = mymodel.constraints()[4]\n",
    "for b in param_lst:\n",
    "    constr.SetUb(b)\n",
    "    mymodel.Solve()\n",
    "    optval_lst.append(mymodel.Objective().Value())\n",
    "    print(b,mymodel.Objective().Value())\n",
    "constr.SetUb(100)\n",
    "plt.plot(param_lst,optval_lst)"
   ]
  },
  {
   "cell_type": "code",
   "execution_count": null,
   "metadata": {},
   "outputs": [],
   "source": [
    "#The Optimal solution, profit, increasing as the total hours increase from 100 to 140."
   ]
  },
  {
   "cell_type": "code",
   "execution_count": 62,
   "metadata": {},
   "outputs": [],
   "source": [
    "#If the labor capacity increased to 120 hours, I would use them as it increased the profit to $5994"
   ]
  },
  {
   "cell_type": "markdown",
   "metadata": {},
   "source": [
    "## Frandec Company"
   ]
  },
  {
   "cell_type": "code",
   "execution_count": 11,
   "metadata": {},
   "outputs": [],
   "source": [
    "# import Glop package\n",
    "from ortools.linear_solver import pywraplp as glp\n",
    "import lptools as lpt\n",
    "import matplotlib.pyplot as plt"
   ]
  },
  {
   "cell_type": "code",
   "execution_count": 12,
   "metadata": {},
   "outputs": [],
   "source": [
    "#Create LP model object\n",
    "mymodel = glp.Solver('Frandec',glp.Solver.GLOP_LINEAR_PROGRAMMING)"
   ]
  },
  {
   "cell_type": "code",
   "execution_count": 13,
   "metadata": {},
   "outputs": [],
   "source": [
    "inf = mymodel.infinity()\n",
    "\n",
    "variables = {'FrameManufacture': (0,inf,38.00),    # (lower bound, upper bound, objective coefficient)\n",
    "             'SupportManufacture': (0,inf,11.50),\n",
    "             'StrapManufacture': (0,inf,6.50),\n",
    "             'FramePurchase': (0,inf,51.00),\n",
    "             'SupportPurchase': (0,inf,15.00),\n",
    "             'StrapManufacture': (0,inf,7.50)}\n",
    "\n",
    "constraints = {'Cutting': (0,21000,[3.5 ,1.3 ,.80,0,0,0]),    # (lower bound, upper bound, coefficient list)\n",
    "               'Milling': (0,25200,[2.2 , 1.7 , 0,0,0,0]),\n",
    "               'Shaping': (0,40800,[3.1, 2.6 , 1.7,0,0,0]),\n",
    "               'CuttingCapacity': (5000,inf, [1, 0, 0,1,0,0]),\n",
    "               'MillingCapacity': (10000,inf, [0,1,0,0,1,0]),\n",
    "               'ShapingCapacity': (5000,inf, [0,0,1,0,0,1])}\n",
    "               \n",
    "               \n"
   ]
  },
  {
   "cell_type": "code",
   "execution_count": 14,
   "metadata": {},
   "outputs": [],
   "source": [
    "mymodel.Objective().SetMinimization()\n",
    "for v in variables:\n",
    "    #print(v)\n",
    "    #print(variables[v])\n",
    "    (lb,ub,c) = variables[v]\n",
    "    var = mymodel.NumVar(lb,ub,v)\n",
    "    mymodel.Objective().SetCoefficient(var,c)"
   ]
  },
  {
   "cell_type": "code",
   "execution_count": 15,
   "metadata": {},
   "outputs": [],
   "source": [
    "for c in constraints:\n",
    "    (lb,ub,coeff_lst) = constraints[c]\n",
    "    #print(list(zip(mymodel.variables(),coeff_lst)))\n",
    "    constr = mymodel.Constraint(lb,ub,c)\n",
    "    for (v,coeff) in zip(mymodel.variables(),coeff_lst):\n",
    "        constr.SetCoefficient(v,coeff)"
   ]
  },
  {
   "cell_type": "code",
   "execution_count": 16,
   "metadata": {},
   "outputs": [
    {
     "name": "stdout",
     "output_type": "stream",
     "text": [
      "Variables:\n",
      "FrameManufacture, SupportManufacture, StrapManufacture, FramePurchase, SupportPurchase \n",
      "\n",
      "minimize: 38.0*FrameManufacture + 11.5*SupportManufacture + 7.5*StrapManufacture + 51.0*FramePurchase + 15.0*SupportPurchase \n",
      "\n",
      "Subject To:\n",
      "Cutting: 3.5*FrameManufacture + 1.3*SupportManufacture + 0.8*StrapManufacture >= 0.0\n",
      "Cutting: 3.5*FrameManufacture + 1.3*SupportManufacture + 0.8*StrapManufacture <= 21000.0\n",
      "Milling: 2.2*FrameManufacture + 1.7*SupportManufacture >= 0.0\n",
      "Milling: 2.2*FrameManufacture + 1.7*SupportManufacture <= 25200.0\n",
      "Shaping: 3.1*FrameManufacture + 2.6*SupportManufacture + 1.7*StrapManufacture >= 0.0\n",
      "Shaping: 3.1*FrameManufacture + 2.6*SupportManufacture + 1.7*StrapManufacture <= 40800.0\n",
      "CuttingCapacity: 1.0*FrameManufacture + 1.0*FramePurchase >= 5000.0\n",
      "MillingCapacity: 1.0*SupportManufacture + 1.0*SupportPurchase >= 10000.0\n",
      "ShapingCapacity: 1.0*StrapManufacture >= 5000.0\n",
      "\n",
      "Bounds:\n",
      "FrameManufacture >= 0.0\n",
      "SupportManufacture >= 0.0\n",
      "StrapManufacture >= 0.0\n",
      "FramePurchase >= 0.0\n",
      "SupportPurchase >= 0.0\n"
     ]
    }
   ],
   "source": [
    "lpt.print_model(mymodel)"
   ]
  },
  {
   "cell_type": "code",
   "execution_count": 17,
   "metadata": {},
   "outputs": [
    {
     "name": "stdout",
     "output_type": "stream",
     "text": [
      "Solution Status = 0\n",
      "Optimal Value = 379357.14\n",
      "FrameManufacture = 4857.14\n",
      "SupportManufacture = 0.00\n",
      "StrapManufacture = 5000.00\n",
      "FramePurchase = 142.86\n",
      "SupportPurchase = 10000.00\n"
     ]
    }
   ],
   "source": [
    "#solve model and display results\n",
    "status = mymodel.Solve()\n",
    "print('Solution Status =',status)\n",
    "print('Optimal Value = %.2f' % mymodel.Objective().Value())\n",
    "for v in mymodel.variables():\n",
    "    print('%s = %.2f' % (v.name(),v.solution_value()))"
   ]
  },
  {
   "cell_type": "code",
   "execution_count": 18,
   "metadata": {},
   "outputs": [
    {
     "name": "stdout",
     "output_type": "stream",
     "text": [
      "Variable    LB   Value    UB   Reduced Cost\n",
      "FrameManufacture    0.0  4857.1    inf   0.00\n",
      "SupportManufacture    0.0    0.0    inf   1.33\n",
      "StrapManufacture    0.0  5000.0    inf  -0.00\n",
      "FramePurchase    0.0  142.9    inf   0.00\n",
      "SupportPurchase    0.0  10000.0    inf  -0.00\n"
     ]
    }
   ],
   "source": [
    "# display variable information\n",
    "print('Variable    LB   Value    UB   Reduced Cost')\n",
    "for v in mymodel.variables():\n",
    "    print('%8s  %5.1f  %5.1f  %5.1f  %5.2f' % (v.name(),v.lb(),v.solution_value(),v.ub(),v.reduced_cost()))"
   ]
  },
  {
   "cell_type": "code",
   "execution_count": 19,
   "metadata": {},
   "outputs": [
    {
     "name": "stdout",
     "output_type": "stream",
     "text": [
      "Constraint    LB    Value  UB     Dual\n",
      "   Cutting    0.0  21000.0  21000.0  -3.71\n",
      "   Milling    0.0  10685.7  25200.0   0.00\n",
      "   Shaping    0.0  23557.1  40800.0   0.00\n",
      "CuttingCapacity  5000.0  5000.0    inf  51.00\n",
      "MillingCapacity  10000.0  10000.0    inf  15.00\n",
      "ShapingCapacity  5000.0  5000.0    inf  10.47\n"
     ]
    }
   ],
   "source": [
    "#display constraint information\n",
    "print('Constraint    LB    Value  UB     Dual')\n",
    "for (c,lhs) in zip(mymodel.constraints(),mymodel.ComputeConstraintActivities()):\n",
    "    print('%10s  %5.1f  %5.1f  %5.1f  %5.2f' % (c.name(),c.lb(),lhs,c.ub(),c.dual_value()))"
   ]
  },
  {
   "cell_type": "code",
   "execution_count": 20,
   "metadata": {},
   "outputs": [],
   "source": [
    "# Frandec should only pay for adding to the cutting department, if he had to add an additional hours all three, he should not pay at all."
   ]
  },
  {
   "cell_type": "code",
   "execution_count": 21,
   "metadata": {},
   "outputs": [
    {
     "name": "stdout",
     "output_type": "stream",
     "text": [
      "0 194785.71428571435\n",
      "1 199642.85714285722\n",
      "2 204500.00000000006\n",
      "3 209357.14285714293\n",
      "4 214214.28571428577\n",
      "5 219071.42857142864\n",
      "6 223928.57142857148\n",
      "7 228785.71428571435\n",
      "8 233642.85714285722\n",
      "9 238500.00000000006\n",
      "10 243357.1428571429\n",
      "11 248214.28571428577\n",
      "12 253071.42857142864\n",
      "13 257928.57142857148\n",
      "14 262785.7142857143\n",
      "15 267642.8571428572\n",
      "16 272500.00000000006\n",
      "17 277357.1428571429\n",
      "18 282214.2857142858\n",
      "19 287071.42857142864\n",
      "20 291928.5714285715\n",
      "21 296785.7142857143\n",
      "22 301642.8571428572\n",
      "23 306500.00000000006\n",
      "24 311357.1428571429\n",
      "25 316214.2857142858\n",
      "26 321071.42857142864\n",
      "27 325928.5714285715\n",
      "28 330785.7142857143\n",
      "29 335642.85714285716\n",
      "30 340500.00000000006\n",
      "31 345357.1428571429\n",
      "32 350214.2857142858\n",
      "33 355071.42857142864\n",
      "34 359928.5714285715\n",
      "35 364785.7142857143\n",
      "36 369642.85714285716\n",
      "37 374500.00000000006\n",
      "38 379357.1428571429\n",
      "39 384214.2857142858\n",
      "40 389071.42857142864\n",
      "41 393928.5714285715\n",
      "42 397214.2857142858\n",
      "43 398357.1428571429\n",
      "44 399500.00000000006\n",
      "45 400642.85714285716\n",
      "46 401785.7142857143\n",
      "47 402928.5714285715\n",
      "48 404071.42857142864\n",
      "49 405214.28571428574\n",
      "50 406357.1428571429\n"
     ]
    },
    {
     "data": {
      "text/plain": [
       "[<matplotlib.lines.Line2D at 0x222e9b3e3d0>]"
      ]
     },
     "execution_count": 21,
     "metadata": {},
     "output_type": "execute_result"
    },
    {
     "data": {
      "image/png": "[encoded data removed]",
      "text/plain": [
       "<Figure size 432x288 with 1 Axes>"
      ]
     },
     "metadata": {
      "needs_background": "light"
     },
     "output_type": "display_data"
    }
   ],
   "source": [
    "# param analysis for Frame manufacturing coefficient\n",
    "param_lst = list(range(0,51,))\n",
    "optval_lst=list()\n",
    "dvar = mymodel.variables()[0]\n",
    "for c in param_lst:\n",
    "    mymodel.Objective().SetCoefficient(dvar,c)\n",
    "    mymodel.Solve()\n",
    "    optval_lst.append(mymodel.Objective().Value())\n",
    "    print(c,mymodel.Objective().Value())\n",
    "mymodel.Objective().SetCoefficient(dvar,51)\n",
    "plt.plot(param_lst,optval_lst)"
   ]
  },
  {
   "cell_type": "code",
   "execution_count": 22,
   "metadata": {},
   "outputs": [],
   "source": [
    "# I agree with Frandec. As you can see by the graph, if the price is lower than $38, then you will continue to obtain the lowest optimal value as you go down."
   ]
  },
  {
   "cell_type": "code",
   "execution_count": null,
   "metadata": {},
   "outputs": [],
   "source": []
  },
  {
   "cell_type": "code",
   "execution_count": null,
   "metadata": {},
   "outputs": [],
   "source": []
  }
 ],
 "metadata": {
  "kernelspec": {
   "display_name": "Python 3 (ipykernel)",
   "language": "python",
   "name": "python3"
  },
  "language_info": {
   "codemirror_mode": {
    "name": "ipython",
    "version": 3
   },
   "file_extension": ".py",
   "mimetype": "text/x-python",
   "name": "python",
   "nbconvert_exporter": "python",
   "pygments_lexer": "ipython3",
   "version": "3.9.7"
  }
 },
 "nbformat": 4,
 "nbformat_minor": 4
}
