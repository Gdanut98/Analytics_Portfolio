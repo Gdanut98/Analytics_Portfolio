{
 "cells": [
  {
   "cell_type": "markdown",
   "metadata": {},
   "source": [
    "## Skateboard Problem"
   ]
  },
  {
   "cell_type": "code",
   "execution_count": 1,
   "metadata": {},
   "outputs": [],
   "source": [
    "# import Glop package\n",
    "from ortools.linear_solver import pywraplp as glp\n",
    "import lptools as lpt"
   ]
  },
  {
   "cell_type": "code",
   "execution_count": 2,
   "metadata": {},
   "outputs": [],
   "source": [
    "#Create LP model object\n",
    "mymodel = glp.Solver('Skateboard',glp.Solver.GLOP_LINEAR_PROGRAMMING)"
   ]
  },
  {
   "cell_type": "code",
   "execution_count": 3,
   "metadata": {},
   "outputs": [],
   "source": [
    "inf = mymodel.infinity()\n",
    "\n",
    "         # name: supply capacity, objective coefficient list\n",
    "source = {'D': (350 , [25,25,35,40]),    # Detroit capacity and shipping cost per unit\n",
    "          'LA': (350 , [35,45,35,42.50]),  # Los Angles capacity and shipping cost per unit \n",
    "          'A': (700 , [40,40,42.50,32.50])}  # Austin capacity and shipping cost per unit \n",
    "\n",
    "distribute = {'I': [30,27.50,30],    # Iowa shipping cost per unit to each Retailer\n",
    "             'M': [20,32.50,40],    # Maryland shipping cost per unit to each Retailer\n",
    "             'Id':  [35,40,32.50],   # Idaho shipping cost per unit to each Retailer\n",
    "             'A':  [27.50,25,42.50]}    #  Arkansas shipping cost per unit to each Reailer\n",
    "             \n",
    "\n",
    "        # name: demand quantity required\n",
    "demand = {'JS':200 , 'SS':500 , 'SD':650}    # weekly customer demand for Just Sports, Sports n Stuff, and Sports Dude\n",
    "\n",
    "mymodel.Objective().SetMinimization()"
   ]
  },
  {
   "cell_type": "code",
   "execution_count": 4,
   "metadata": {},
   "outputs": [],
   "source": [
    "# create inbound shipment variables from suppliers to Distribution Center and a dictionary to access them\n",
    "ship = dict()\n",
    "for s in source:\n",
    "    ship[s] = dict()\n",
    "    (b,coeff_lst ) = source[s]\n",
    "    for (t,c) in zip(distribute,coeff_lst):\n",
    "        ship[s][t] = mymodel.NumVar(0,inf, s +'.' + t)\n",
    "        mymodel.Objective().SetCoefficient(ship[s][t], c )"
   ]
  },
  {
   "cell_type": "code",
   "execution_count": 5,
   "metadata": {},
   "outputs": [],
   "source": [
    "# create outbound shipment variables from Distribution Center to Retailers  and a dictionary to access them\n",
    "for t in distribute:\n",
    "    ship[t] = dict()\n",
    "    coeff_lst = distribute[t]\n",
    "    for (d,c) in zip(demand,coeff_lst):\n",
    "        ship[t][d] = mymodel.NumVar(0,inf, t +'.' + d )\n",
    "        mymodel.Objective().SetCoefficient(ship[t][d], c)"
   ]
  },
  {
   "cell_type": "code",
   "execution_count": 6,
   "metadata": {},
   "outputs": [
    {
     "ename": "KeyError",
     "evalue": "'I'",
     "output_type": "error",
     "traceback": [
      "\u001b[1;31m---------------------------------------------------------------------------\u001b[0m",
      "\u001b[1;31mKeyError\u001b[0m                                  Traceback (most recent call last)",
      "\u001b[1;32m~\\AppData\\Local\\Temp/ipykernel_22012/154170536.py\u001b[0m in \u001b[0;36m<module>\u001b[1;34m\u001b[0m\n\u001b[0;32m      4\u001b[0m     \u001b[0mconstr\u001b[0m \u001b[1;33m=\u001b[0m \u001b[0mmymodel\u001b[0m\u001b[1;33m.\u001b[0m\u001b[0mConstraint\u001b[0m\u001b[1;33m(\u001b[0m\u001b[1;33m-\u001b[0m\u001b[0minf\u001b[0m\u001b[1;33m,\u001b[0m\u001b[0mb\u001b[0m\u001b[1;33m,\u001b[0m\u001b[0ms\u001b[0m \u001b[1;33m)\u001b[0m\u001b[1;33m\u001b[0m\u001b[1;33m\u001b[0m\u001b[0m\n\u001b[0;32m      5\u001b[0m     \u001b[1;32mfor\u001b[0m \u001b[0mt\u001b[0m \u001b[1;32min\u001b[0m \u001b[0mdistribute\u001b[0m\u001b[1;33m:\u001b[0m\u001b[1;33m\u001b[0m\u001b[1;33m\u001b[0m\u001b[0m\n\u001b[1;32m----> 6\u001b[1;33m         \u001b[0mconstr\u001b[0m\u001b[1;33m.\u001b[0m\u001b[0mSetCoefficient\u001b[0m\u001b[1;33m(\u001b[0m\u001b[0mship\u001b[0m\u001b[1;33m[\u001b[0m\u001b[0ms\u001b[0m\u001b[1;33m]\u001b[0m\u001b[1;33m[\u001b[0m\u001b[0mt\u001b[0m\u001b[1;33m]\u001b[0m\u001b[1;33m,\u001b[0m \u001b[1;36m1\u001b[0m\u001b[1;33m)\u001b[0m\u001b[1;33m\u001b[0m\u001b[1;33m\u001b[0m\u001b[0m\n\u001b[0m",
      "\u001b[1;31mKeyError\u001b[0m: 'I'"
     ]
    }
   ],
   "source": [
    "# create source/supply constraints\n",
    "for s in source:\n",
    "    (b,coeff_lst) = source[s]\n",
    "    constr = mymodel.Constraint(-inf,b,s )\n",
    "    for t in distribute:\n",
    "        constr.SetCoefficient(ship[s][t], 1)"
   ]
  },
  {
   "cell_type": "code",
   "execution_count": 7,
   "metadata": {},
   "outputs": [],
   "source": [
    "# create demand constraints\n",
    "for d in demand:\n",
    "    lb = ub = demand[d]\n",
    "    constr = mymodel.Constraint(lb,ub,d)\n",
    "    for t in distribute:\n",
    "        constr.SetCoefficient(ship[t][d], 1 )"
   ]
  },
  {
   "cell_type": "code",
   "execution_count": 8,
   "metadata": {},
   "outputs": [
    {
     "ename": "KeyError",
     "evalue": "'I'",
     "output_type": "error",
     "traceback": [
      "\u001b[1;31m---------------------------------------------------------------------------\u001b[0m",
      "\u001b[1;31mKeyError\u001b[0m                                  Traceback (most recent call last)",
      "\u001b[1;32m~\\AppData\\Local\\Temp/ipykernel_22012/2016876950.py\u001b[0m in \u001b[0;36m<module>\u001b[1;34m\u001b[0m\n\u001b[0;32m      3\u001b[0m     \u001b[0mconstr\u001b[0m \u001b[1;33m=\u001b[0m \u001b[0mmymodel\u001b[0m\u001b[1;33m.\u001b[0m\u001b[0mConstraint\u001b[0m\u001b[1;33m(\u001b[0m\u001b[1;36m0\u001b[0m\u001b[1;33m,\u001b[0m\u001b[1;36m0\u001b[0m\u001b[1;33m,\u001b[0m\u001b[0mt\u001b[0m \u001b[1;33m)\u001b[0m\u001b[1;33m\u001b[0m\u001b[1;33m\u001b[0m\u001b[0m\n\u001b[0;32m      4\u001b[0m     \u001b[1;32mfor\u001b[0m \u001b[0ms\u001b[0m \u001b[1;32min\u001b[0m \u001b[0msource\u001b[0m\u001b[1;33m:\u001b[0m\u001b[1;33m\u001b[0m\u001b[1;33m\u001b[0m\u001b[0m\n\u001b[1;32m----> 5\u001b[1;33m         \u001b[0mconstr\u001b[0m\u001b[1;33m.\u001b[0m\u001b[0mSetCoefficient\u001b[0m\u001b[1;33m(\u001b[0m\u001b[0mship\u001b[0m\u001b[1;33m[\u001b[0m\u001b[0ms\u001b[0m\u001b[1;33m]\u001b[0m\u001b[1;33m[\u001b[0m\u001b[0mt\u001b[0m\u001b[1;33m]\u001b[0m\u001b[1;33m,\u001b[0m\u001b[1;36m1\u001b[0m \u001b[1;33m)\u001b[0m\u001b[1;33m\u001b[0m\u001b[1;33m\u001b[0m\u001b[0m\n\u001b[0m\u001b[0;32m      6\u001b[0m     \u001b[1;32mfor\u001b[0m \u001b[0md\u001b[0m \u001b[1;32min\u001b[0m \u001b[0mdemand\u001b[0m\u001b[1;33m:\u001b[0m\u001b[1;33m\u001b[0m\u001b[1;33m\u001b[0m\u001b[0m\n\u001b[0;32m      7\u001b[0m         \u001b[0mconstr\u001b[0m\u001b[1;33m.\u001b[0m\u001b[0mSetCoefficient\u001b[0m\u001b[1;33m(\u001b[0m\u001b[0mship\u001b[0m\u001b[1;33m[\u001b[0m\u001b[0mt\u001b[0m\u001b[1;33m]\u001b[0m\u001b[1;33m[\u001b[0m\u001b[0md\u001b[0m\u001b[1;33m]\u001b[0m\u001b[1;33m,\u001b[0m\u001b[1;33m-\u001b[0m\u001b[1;36m1\u001b[0m \u001b[1;33m)\u001b[0m\u001b[1;33m\u001b[0m\u001b[1;33m\u001b[0m\u001b[0m\n",
      "\u001b[1;31mKeyError\u001b[0m: 'I'"
     ]
    }
   ],
   "source": [
    "# create transshipment flow balance constraints\n",
    "for t in distribute:\n",
    "    constr = mymodel.Constraint(0,0,t )\n",
    "    for s in source:\n",
    "        constr.SetCoefficient(ship[s][t],1 )\n",
    "    for d in demand:\n",
    "        constr.SetCoefficient(ship[t][d],-1 )"
   ]
  },
  {
   "cell_type": "code",
   "execution_count": 9,
   "metadata": {},
   "outputs": [
    {
     "name": "stdout",
     "output_type": "stream",
     "text": [
      "Solution Status = 0\n",
      "Optimal Value = 36000.00\n",
      "D.I = 0.00\n",
      "D.M = 0.00\n",
      "D.Id = 0.00\n",
      "D.A = 0.00\n",
      "LA.I = 0.00\n",
      "LA.M = 0.00\n",
      "LA.Id = 0.00\n",
      "LA.A = 0.00\n",
      "A.I = 0.00\n",
      "A.M = 0.00\n",
      "A.Id = 0.00\n",
      "A.A = 0.00\n",
      "I.JS = 0.00\n",
      "I.SS = 0.00\n",
      "I.SD = 650.00\n",
      "M.JS = 200.00\n",
      "M.SS = 0.00\n",
      "M.SD = 0.00\n",
      "Id.JS = 0.00\n",
      "Id.SS = 0.00\n",
      "Id.SD = 0.00\n",
      "A.JS = 0.00\n",
      "A.SS = 500.00\n",
      "A.SD = 0.00\n"
     ]
    }
   ],
   "source": [
    "#solve model and display results\n",
    "status = mymodel.Solve()\n",
    "print('Solution Status =',status)\n",
    "print('Optimal Value = %.2f' % mymodel.Objective().Value())\n",
    "for v in mymodel.variables():\n",
    "    print('%s = %.2f' % (v.name(),v.solution_value()))"
   ]
  },
  {
   "cell_type": "code",
   "execution_count": 10,
   "metadata": {},
   "outputs": [
    {
     "name": "stdout",
     "output_type": "stream",
     "text": [
      "Variable    LB   Value    UB   Reduced Cost\n",
      "     D.I    0.0    0.0    inf  25.00\n",
      "     D.M    0.0    0.0    inf  25.00\n",
      "    D.Id    0.0    0.0    inf  35.00\n",
      "     D.A    0.0    0.0    inf  40.00\n",
      "    LA.I    0.0    0.0    inf  35.00\n",
      "    LA.M    0.0    0.0    inf  45.00\n",
      "   LA.Id    0.0    0.0    inf  35.00\n",
      "    LA.A    0.0    0.0    inf  42.50\n",
      "     A.I    0.0    0.0    inf  40.00\n",
      "     A.M    0.0    0.0    inf  40.00\n",
      "    A.Id    0.0    0.0    inf  42.50\n",
      "     A.A    0.0    0.0    inf  32.50\n",
      "    I.JS    0.0    0.0    inf  10.00\n",
      "    I.SS    0.0    0.0    inf   2.50\n",
      "    I.SD    0.0  650.0    inf   0.00\n",
      "    M.JS    0.0  200.0    inf   0.00\n",
      "    M.SS    0.0    0.0    inf   7.50\n",
      "    M.SD    0.0    0.0    inf  10.00\n",
      "   Id.JS    0.0    0.0    inf  15.00\n",
      "   Id.SS    0.0    0.0    inf  15.00\n",
      "   Id.SD    0.0    0.0    inf   2.50\n",
      "    A.JS    0.0    0.0    inf   7.50\n",
      "    A.SS    0.0  500.0    inf   0.00\n",
      "    A.SD    0.0    0.0    inf  12.50\n"
     ]
    }
   ],
   "source": [
    "# display all variable information\n",
    "print('Variable    LB   Value    UB   Reduced Cost')\n",
    "for v in mymodel.variables():\n",
    "    print('%8s  %5.1f  %5.1f  %5.1f  %5.2f' % (v.name(),v.lb(),v.solution_value(),v.ub(),v.reduced_cost()))"
   ]
  },
  {
   "cell_type": "code",
   "execution_count": 11,
   "metadata": {},
   "outputs": [
    {
     "name": "stdout",
     "output_type": "stream",
     "text": [
      "Constraint    LB    Value  UB     Dual\n",
      "         D   -inf    0.0  350.0   0.00\n",
      "        LA   -inf    0.0  350.0   0.00\n",
      "         A   -inf    0.0  700.0   0.00\n",
      "        JS  200.0  200.0  200.0  20.00\n",
      "        SS  500.0  500.0  500.0  25.00\n",
      "        SD  650.0  650.0  650.0  30.00\n",
      "         I    0.0    0.0    0.0   0.00\n"
     ]
    }
   ],
   "source": [
    "#display constraint information\n",
    "print('Constraint    LB    Value  UB     Dual')\n",
    "for (c,lhs) in zip(mymodel.constraints(),mymodel.ComputeConstraintActivities()):\n",
    "    print('%10s  %5.1f  %5.1f  %5.1f  %5.2f' % (c.name(),c.lb(),lhs,c.ub(),c.dual_value()))"
   ]
  },
  {
   "cell_type": "code",
   "execution_count": 12,
   "metadata": {},
   "outputs": [],
   "source": [
    "# They should invest in the expansion of the Iowa DC as the profit outweighs the amortized cost"
   ]
  },
  {
   "cell_type": "markdown",
   "metadata": {},
   "source": [
    "## Shortest Path Problem"
   ]
  },
  {
   "cell_type": "code",
   "execution_count": 13,
   "metadata": {},
   "outputs": [],
   "source": [
    "# import Glop package\n",
    "from ortools.linear_solver import pywraplp as glp\n",
    "import lptools as lpt"
   ]
  },
  {
   "cell_type": "code",
   "execution_count": 14,
   "metadata": {},
   "outputs": [],
   "source": [
    "#Create LP model object\n",
    "mymodel = glp.Solver('ShortestPath',glp.Solver.GLOP_LINEAR_PROGRAMMING)"
   ]
  },
  {
   "cell_type": "code",
   "execution_count": 15,
   "metadata": {},
   "outputs": [],
   "source": [
    "inf = mymodel.infinity()\n",
    "\n",
    "# node dictionary; value = -1 is origin, value = 1 is destination, value = 0 is intermediate node\n",
    "node = {1: -1, 2:0 , 3:0 , 4:0 , 5:0 , 6:0 , 7: 1}\n",
    "\n",
    "# edge dictionary; (origin,destination):distance/cost\n",
    "edge = {(1,2):7,\n",
    "        (1,3):9,\n",
    "        (1,4):18,\n",
    "        (2,3):3,\n",
    "        (3,2):3,\n",
    "        (2,5):5,\n",
    "        (5,2):5,\n",
    "        (3,5):4,\n",
    "        (5,3):4,\n",
    "        (4,6):3,\n",
    "        (5,6):2,\n",
    "        (6,5):2,\n",
    "        (5,7):6,\n",
    "        (6,7):3}\n",
    "\n",
    "mymodel.Objective().SetMinimization()    # minimize total transportation cost"
   ]
  },
  {
   "cell_type": "code",
   "execution_count": 16,
   "metadata": {},
   "outputs": [],
   "source": [
    "# create a constraint dictionary containing a constraint for each node\n",
    "constr = dict()\n",
    "for n in  node:\n",
    "    b =  node[n]\n",
    "    constr[n] = mymodel.Constraint(b,b,str(n) )"
   ]
  },
  {
   "cell_type": "code",
   "execution_count": 17,
   "metadata": {},
   "outputs": [],
   "source": [
    "# create a variable dictionary containing a variable for each edge\n",
    "# add each variable to the objective and its corresponding constraints\n",
    "\n",
    "path = dict()\n",
    "for e in  edge:\n",
    "    (o,d ) = e\n",
    "    c = edge[e]\n",
    "    path[e] = mymodel.NumVar(0,inf,str(o) + '_' + str(d) )\n",
    "    mymodel.Objective().SetCoefficient(path[e], c)\n",
    "    constr[o].SetCoefficient(path[e],-1)\n",
    "    constr[d].SetCoefficient(path[e], 1 )"
   ]
  },
  {
   "cell_type": "code",
   "execution_count": 18,
   "metadata": {},
   "outputs": [
    {
     "name": "stdout",
     "output_type": "stream",
     "text": [
      "Variables:\n",
      "1_2, 1_3, 1_4, 2_3, 3_2, 2_5, 5_2, 3_5, 5_3, 4_6, 5_6, 6_5, 5_7, 6_7 \n",
      "\n",
      "minimize: 7.0*1_2 + 9.0*1_3 + 18.0*1_4 + 3.0*2_3 + 3.0*3_2 + 5.0*2_5 + 5.0*5_2 + 4.0*3_5 + 4.0*5_3 + 3.0*4_6 + 2.0*5_6 + 2.0*6_5 + 6.0*5_7 + 3.0*6_7 \n",
      "\n",
      "Subject To:\n",
      "1: - 1.0*1_2 - 1.0*1_3 - 1.0*1_4 = -1.0\n",
      "2: 1.0*1_2 - 1.0*2_3 + 1.0*3_2 - 1.0*2_5 + 1.0*5_2 = 0.0\n",
      "3: 1.0*1_3 + 1.0*2_3 - 1.0*3_2 - 1.0*3_5 + 1.0*5_3 = 0.0\n",
      "4: 1.0*1_4 - 1.0*4_6 = 0.0\n",
      "5: 1.0*2_5 - 1.0*5_2 + 1.0*3_5 - 1.0*5_3 - 1.0*5_6 + 1.0*6_5 - 1.0*5_7 = 0.0\n",
      "6: 1.0*4_6 + 1.0*5_6 - 1.0*6_5 - 1.0*6_7 = 0.0\n",
      "7: 1.0*5_7 + 1.0*6_7 = 1.0\n",
      "\n",
      "Bounds:\n",
      "1_2 >= 0.0\n",
      "1_3 >= 0.0\n",
      "1_4 >= 0.0\n",
      "2_3 >= 0.0\n",
      "3_2 >= 0.0\n",
      "2_5 >= 0.0\n",
      "5_2 >= 0.0\n",
      "3_5 >= 0.0\n",
      "5_3 >= 0.0\n",
      "4_6 >= 0.0\n",
      "5_6 >= 0.0\n",
      "6_5 >= 0.0\n",
      "5_7 >= 0.0\n",
      "6_7 >= 0.0\n"
     ]
    }
   ],
   "source": [
    "lpt.print_model(mymodel)"
   ]
  },
  {
   "cell_type": "code",
   "execution_count": 19,
   "metadata": {},
   "outputs": [
    {
     "name": "stdout",
     "output_type": "stream",
     "text": [
      "Solution Status = 0\n",
      "Optimal Value = 17.00\n",
      "1_2 = 1.00\n",
      "2_5 = 1.00\n",
      "5_6 = 1.00\n",
      "6_7 = 1.00\n"
     ]
    }
   ],
   "source": [
    "#solve model and display results\n",
    "status = mymodel.Solve()\n",
    "print('Solution Status =',status)\n",
    "print('Optimal Value = %.2f' % mymodel.Objective().Value())\n",
    "for v in mymodel.variables():\n",
    "    if v.solution_value() != 0:\n",
    "        print('%s = %.2f' % (v.name(),v.solution_value()))"
   ]
  },
  {
   "cell_type": "code",
   "execution_count": 20,
   "metadata": {},
   "outputs": [
    {
     "name": "stdout",
     "output_type": "stream",
     "text": [
      "Variable    LB   Value    UB   Reduced Cost\n",
      "     1_2    0.0    1.0    inf   0.00\n",
      "     1_3    0.0    0.0    inf   0.00\n",
      "     1_4    0.0    0.0    inf   0.00\n",
      "     2_3    0.0    0.0    inf   1.00\n",
      "     3_2    0.0    0.0    inf   5.00\n",
      "     2_5    0.0    1.0    inf   0.00\n",
      "     5_2    0.0    0.0    inf  10.00\n",
      "     3_5    0.0    0.0    inf   1.00\n",
      "     5_3    0.0    0.0    inf   7.00\n",
      "     4_6    0.0    0.0    inf   7.00\n",
      "     5_6    0.0    1.0    inf   0.00\n",
      "     6_5    0.0    0.0    inf   4.00\n",
      "     5_7    0.0    0.0    inf   1.00\n",
      "     6_7    0.0    1.0    inf   0.00\n"
     ]
    }
   ],
   "source": [
    "# display all variable information\n",
    "print('Variable    LB   Value    UB   Reduced Cost')\n",
    "for v in mymodel.variables():\n",
    "    print('%8s  %5.1f  %5.1f  %5.1f  %5.2f' % (v.name(),v.lb(),v.solution_value(),v.ub(),v.reduced_cost()))"
   ]
  },
  {
   "cell_type": "code",
   "execution_count": 21,
   "metadata": {},
   "outputs": [
    {
     "name": "stdout",
     "output_type": "stream",
     "text": [
      "Constraint    LB    Value  UB     Dual\n",
      "         1   -1.0   -1.0   -1.0  -18.00\n",
      "         2    0.0    0.0    0.0  -11.00\n",
      "         3    0.0    0.0    0.0  -9.00\n",
      "         4    0.0    0.0    0.0   0.00\n",
      "         5    0.0    0.0    0.0  -6.00\n",
      "         6    0.0    0.0    0.0  -4.00\n",
      "         7    1.0    1.0    1.0  -1.00\n"
     ]
    }
   ],
   "source": [
    "#display constraint information\n",
    "print('Constraint    LB    Value  UB     Dual')\n",
    "for (c,lhs) in zip(mymodel.constraints(),mymodel.ComputeConstraintActivities()):\n",
    "    print('%10s  %5.1f  %5.1f  %5.1f  %5.2f' % (c.name(),c.lb(),lhs,c.ub(),c.dual_value()))"
   ]
  },
  {
   "cell_type": "code",
   "execution_count": null,
   "metadata": {},
   "outputs": [],
   "source": []
  }
 ],
 "metadata": {
  "kernelspec": {
   "display_name": "Python 3 (ipykernel)",
   "language": "python",
   "name": "python3"
  },
  "language_info": {
   "codemirror_mode": {
    "name": "ipython",
    "version": 3
   },
   "file_extension": ".py",
   "mimetype": "text/x-python",
   "name": "python",
   "nbconvert_exporter": "python",
   "pygments_lexer": "ipython3",
   "version": "3.9.7"
  }
 },
 "nbformat": 4,
 "nbformat_minor": 4
}
